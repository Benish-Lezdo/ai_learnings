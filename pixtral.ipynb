{
 "cells": [
  {
   "cell_type": "code",
   "execution_count": null,
   "metadata": {
    "vscode": {
     "languageId": "plaintext"
    }
   },
   "outputs": [],
   "source": [
    "!pip install --upgrade vllm\n",
    "!pip install --upgrade mistral_common\n",
    "\n"
   ]
  },
  {
   "cell_type": "code",
   "execution_count": null,
   "metadata": {
    "vscode": {
     "languageId": "plaintext"
    }
   },
   "outputs": [],
   "source": [
    "from huggingface_hub import notebook_login\n",
    "notebook_login()"
   ]
  },
  {
   "cell_type": "code",
   "execution_count": null,
   "metadata": {
    "vscode": {
     "languageId": "plaintext"
    }
   },
   "outputs": [],
   "source": [
    "from vllm import LLM\n",
    "from vllm.sampling_params import SamplingParams\n",
    "\n",
    "model_name = \"mistralai/Pixtral-12B-2409\"\n",
    "\n",
    "sampling_params = SamplingParams(max_tokens=8192, temperature=0.7, )\n",
    "\n",
    "llm = LLM(model=model_name, tokenizer_mode=\"mistral\", limit_mm_per_prompt={\"image\": 5}, max_model_len=6000)"
   ]
  },
  {
   "cell_type": "code",
   "execution_count": null,
   "metadata": {
    "vscode": {
     "languageId": "plaintext"
    }
   },
   "outputs": [],
   "source": [
    "import base64\n",
    "import os\n",
    "\n",
    "def encode_image_base64(image_path):\n",
    " with open(image_path, \"rb\") as image_file:\n",
    "   return base64.b64encode(image_file.read()).decode(\"utf-8\")\n",
    "\n",
    "\n",
    "def generate_content(image_arr, prompt):\n",
    "    content = [{\"type\":\"text\", \"text\" : prompt}]\n",
    "    for img_path in image_arr:\n",
    "        encoded = encode_image_base64(img_path)\n",
    "        content.append({\"type\" : \"image_url\", \"image_url\" : {\"url\" : f\"data:image/jpeg;base64,{encoded}\"}})\n",
    "    return content\n",
    "\n",
    "\n",
    "from PIL import Image\n",
    "\n",
    "def resize_image(image_path, max_size=(512, 512)):\n",
    "    img = Image.open(image_path)\n",
    "    img.thumbnail(max_size)\n",
    "    resized_path = image_path.replace('.', '_resized.')\n",
    "    img.save(resized_path)\n",
    "    return resized_path\n",
    "\n"
   ]
  },
  {
   "cell_type": "code",
   "execution_count": null,
   "metadata": {
    "vscode": {
     "languageId": "plaintext"
    }
   },
   "outputs": [],
   "source": [
    "query = input(\"Enter the question\")\n",
    "prompt = f\"\"\"Answer the Question from the give image \\n\n",
    "    If you are not able to find an answer from the image then 'say answer not present in the given images'\n",
    "    Question : {query}\n",
    "    \"\"\"\n",
    "image_arr = [\"/home/pg_no_69.png\", \"/home/backpain.png\"]\n",
    "\n",
    "content = generate_content(image_arr, prompt)\n",
    "# print(content)\n",
    "\n",
    "messages = [\n",
    "    {\n",
    "        \"role\": \"user\",\n",
    "        \"content\": content\n",
    "    },\n",
    "]\n",
    "\n",
    "outputs = llm.chat(messages, sampling_params=sampling_params)\n",
    "\n",
    "print(outputs[0].outputs[0].text)"
   ]
  }
 ],
 "metadata": {
  "language_info": {
   "name": "python"
  }
 },
 "nbformat": 4,
 "nbformat_minor": 2
}
