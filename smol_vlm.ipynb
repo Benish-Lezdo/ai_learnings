{
 "cells": [
  {
   "cell_type": "markdown",
   "metadata": {},
   "source": [
    "* Nearly 40seconds for processing single image on A100 machine\n",
    "* Generates the same words again and again\n",
    "* Processing Time Increases as the prompt size increases\n",
    "* small prompts are working fine \n",
    "* for small prompts taking 4 to 5 seconds for an image"
   ]
  },
  {
   "cell_type": "code",
   "execution_count": 2,
   "metadata": {},
   "outputs": [
    {
     "name": "stdout",
     "output_type": "stream",
     "text": [
      "Requirement already satisfied: transformers in /root/miniconda3/lib/python3.12/site-packages (4.48.1)\n",
      "Requirement already satisfied: filelock in /root/miniconda3/lib/python3.12/site-packages (from transformers) (3.17.0)\n",
      "Requirement already satisfied: huggingface-hub<1.0,>=0.24.0 in /root/miniconda3/lib/python3.12/site-packages (from transformers) (0.28.0)\n",
      "Requirement already satisfied: numpy>=1.17 in /root/miniconda3/lib/python3.12/site-packages (from transformers) (2.2.2)\n",
      "Requirement already satisfied: packaging>=20.0 in /root/miniconda3/lib/python3.12/site-packages (from transformers) (23.2)\n",
      "Requirement already satisfied: pyyaml>=5.1 in /root/miniconda3/lib/python3.12/site-packages (from transformers) (6.0.2)\n",
      "Requirement already satisfied: regex!=2019.12.17 in /root/miniconda3/lib/python3.12/site-packages (from transformers) (2024.11.6)\n",
      "Requirement already satisfied: requests in /root/miniconda3/lib/python3.12/site-packages (from transformers) (2.32.2)\n",
      "Requirement already satisfied: tokenizers<0.22,>=0.21 in /root/miniconda3/lib/python3.12/site-packages (from transformers) (0.21.0)\n",
      "Requirement already satisfied: safetensors>=0.4.1 in /root/miniconda3/lib/python3.12/site-packages (from transformers) (0.5.2)\n",
      "Requirement already satisfied: tqdm>=4.27 in /root/miniconda3/lib/python3.12/site-packages (from transformers) (4.66.4)\n",
      "Requirement already satisfied: fsspec>=2023.5.0 in /root/miniconda3/lib/python3.12/site-packages (from huggingface-hub<1.0,>=0.24.0->transformers) (2024.12.0)\n",
      "Requirement already satisfied: typing-extensions>=3.7.4.3 in /root/miniconda3/lib/python3.12/site-packages (from huggingface-hub<1.0,>=0.24.0->transformers) (4.12.2)\n",
      "Requirement already satisfied: charset-normalizer<4,>=2 in /root/miniconda3/lib/python3.12/site-packages (from requests->transformers) (2.0.4)\n",
      "Requirement already satisfied: idna<4,>=2.5 in /root/miniconda3/lib/python3.12/site-packages (from requests->transformers) (3.7)\n",
      "Requirement already satisfied: urllib3<3,>=1.21.1 in /root/miniconda3/lib/python3.12/site-packages (from requests->transformers) (2.2.2)\n",
      "Requirement already satisfied: certifi>=2017.4.17 in /root/miniconda3/lib/python3.12/site-packages (from requests->transformers) (2024.12.14)\n",
      "\u001b[33mWARNING: Running pip as the 'root' user can result in broken permissions and conflicting behaviour with the system package manager. It is recommended to use a virtual environment instead: https://pip.pypa.io/warnings/venv\u001b[0m\u001b[33m\n",
      "\u001b[0mNote: you may need to restart the kernel to use updated packages.\n",
      "Requirement already satisfied: accelerate in /root/miniconda3/lib/python3.12/site-packages (1.3.0)\n",
      "Requirement already satisfied: numpy<3.0.0,>=1.17 in /root/miniconda3/lib/python3.12/site-packages (from accelerate) (2.2.2)\n",
      "Requirement already satisfied: packaging>=20.0 in /root/miniconda3/lib/python3.12/site-packages (from accelerate) (23.2)\n",
      "Requirement already satisfied: psutil in /root/miniconda3/lib/python3.12/site-packages (from accelerate) (6.1.1)\n",
      "Requirement already satisfied: pyyaml in /root/miniconda3/lib/python3.12/site-packages (from accelerate) (6.0.2)\n",
      "Requirement already satisfied: torch>=2.0.0 in /root/miniconda3/lib/python3.12/site-packages (from accelerate) (2.6.0)\n",
      "Requirement already satisfied: huggingface-hub>=0.21.0 in /root/miniconda3/lib/python3.12/site-packages (from accelerate) (0.28.0)\n",
      "Requirement already satisfied: safetensors>=0.4.3 in /root/miniconda3/lib/python3.12/site-packages (from accelerate) (0.5.2)\n",
      "Requirement already satisfied: filelock in /root/miniconda3/lib/python3.12/site-packages (from huggingface-hub>=0.21.0->accelerate) (3.17.0)\n",
      "Requirement already satisfied: fsspec>=2023.5.0 in /root/miniconda3/lib/python3.12/site-packages (from huggingface-hub>=0.21.0->accelerate) (2024.12.0)\n",
      "Requirement already satisfied: requests in /root/miniconda3/lib/python3.12/site-packages (from huggingface-hub>=0.21.0->accelerate) (2.32.2)\n",
      "Requirement already satisfied: tqdm>=4.42.1 in /root/miniconda3/lib/python3.12/site-packages (from huggingface-hub>=0.21.0->accelerate) (4.66.4)\n",
      "Requirement already satisfied: typing-extensions>=3.7.4.3 in /root/miniconda3/lib/python3.12/site-packages (from huggingface-hub>=0.21.0->accelerate) (4.12.2)\n",
      "Requirement already satisfied: networkx in /root/miniconda3/lib/python3.12/site-packages (from torch>=2.0.0->accelerate) (3.4.2)\n",
      "Requirement already satisfied: jinja2 in /root/miniconda3/lib/python3.12/site-packages (from torch>=2.0.0->accelerate) (3.1.5)\n",
      "Requirement already satisfied: nvidia-cuda-nvrtc-cu12==12.4.127 in /root/miniconda3/lib/python3.12/site-packages (from torch>=2.0.0->accelerate) (12.4.127)\n",
      "Requirement already satisfied: nvidia-cuda-runtime-cu12==12.4.127 in /root/miniconda3/lib/python3.12/site-packages (from torch>=2.0.0->accelerate) (12.4.127)\n",
      "Requirement already satisfied: nvidia-cuda-cupti-cu12==12.4.127 in /root/miniconda3/lib/python3.12/site-packages (from torch>=2.0.0->accelerate) (12.4.127)\n",
      "Requirement already satisfied: nvidia-cudnn-cu12==9.1.0.70 in /root/miniconda3/lib/python3.12/site-packages (from torch>=2.0.0->accelerate) (9.1.0.70)\n",
      "Requirement already satisfied: nvidia-cublas-cu12==12.4.5.8 in /root/miniconda3/lib/python3.12/site-packages (from torch>=2.0.0->accelerate) (12.4.5.8)\n",
      "Requirement already satisfied: nvidia-cufft-cu12==11.2.1.3 in /root/miniconda3/lib/python3.12/site-packages (from torch>=2.0.0->accelerate) (11.2.1.3)\n",
      "Requirement already satisfied: nvidia-curand-cu12==10.3.5.147 in /root/miniconda3/lib/python3.12/site-packages (from torch>=2.0.0->accelerate) (10.3.5.147)\n",
      "Requirement already satisfied: nvidia-cusolver-cu12==11.6.1.9 in /root/miniconda3/lib/python3.12/site-packages (from torch>=2.0.0->accelerate) (11.6.1.9)\n",
      "Requirement already satisfied: nvidia-cusparse-cu12==12.3.1.170 in /root/miniconda3/lib/python3.12/site-packages (from torch>=2.0.0->accelerate) (12.3.1.170)\n",
      "Requirement already satisfied: nvidia-cusparselt-cu12==0.6.2 in /root/miniconda3/lib/python3.12/site-packages (from torch>=2.0.0->accelerate) (0.6.2)\n",
      "Requirement already satisfied: nvidia-nccl-cu12==2.21.5 in /root/miniconda3/lib/python3.12/site-packages (from torch>=2.0.0->accelerate) (2.21.5)\n",
      "Requirement already satisfied: nvidia-nvtx-cu12==12.4.127 in /root/miniconda3/lib/python3.12/site-packages (from torch>=2.0.0->accelerate) (12.4.127)\n",
      "Requirement already satisfied: nvidia-nvjitlink-cu12==12.4.127 in /root/miniconda3/lib/python3.12/site-packages (from torch>=2.0.0->accelerate) (12.4.127)\n",
      "Requirement already satisfied: triton==3.2.0 in /root/miniconda3/lib/python3.12/site-packages (from torch>=2.0.0->accelerate) (3.2.0)\n",
      "Requirement already satisfied: setuptools in /root/miniconda3/lib/python3.12/site-packages (from torch>=2.0.0->accelerate) (69.5.1)\n",
      "Requirement already satisfied: sympy==1.13.1 in /root/miniconda3/lib/python3.12/site-packages (from torch>=2.0.0->accelerate) (1.13.1)\n",
      "Requirement already satisfied: mpmath<1.4,>=1.1.0 in /root/miniconda3/lib/python3.12/site-packages (from sympy==1.13.1->torch>=2.0.0->accelerate) (1.3.0)\n",
      "Requirement already satisfied: MarkupSafe>=2.0 in /root/miniconda3/lib/python3.12/site-packages (from jinja2->torch>=2.0.0->accelerate) (3.0.2)\n",
      "Requirement already satisfied: charset-normalizer<4,>=2 in /root/miniconda3/lib/python3.12/site-packages (from requests->huggingface-hub>=0.21.0->accelerate) (2.0.4)\n",
      "Requirement already satisfied: idna<4,>=2.5 in /root/miniconda3/lib/python3.12/site-packages (from requests->huggingface-hub>=0.21.0->accelerate) (3.7)\n",
      "Requirement already satisfied: urllib3<3,>=1.21.1 in /root/miniconda3/lib/python3.12/site-packages (from requests->huggingface-hub>=0.21.0->accelerate) (2.2.2)\n",
      "Requirement already satisfied: certifi>=2017.4.17 in /root/miniconda3/lib/python3.12/site-packages (from requests->huggingface-hub>=0.21.0->accelerate) (2024.12.14)\n",
      "\u001b[33mWARNING: Running pip as the 'root' user can result in broken permissions and conflicting behaviour with the system package manager. It is recommended to use a virtual environment instead: https://pip.pypa.io/warnings/venv\u001b[0m\u001b[33m\n",
      "\u001b[0mNote: you may need to restart the kernel to use updated packages.\n",
      "Requirement already satisfied: huggingface_hub in /root/miniconda3/lib/python3.12/site-packages (0.28.0)\n",
      "Requirement already satisfied: filelock in /root/miniconda3/lib/python3.12/site-packages (from huggingface_hub) (3.17.0)\n",
      "Requirement already satisfied: fsspec>=2023.5.0 in /root/miniconda3/lib/python3.12/site-packages (from huggingface_hub) (2024.12.0)\n",
      "Requirement already satisfied: packaging>=20.9 in /root/miniconda3/lib/python3.12/site-packages (from huggingface_hub) (23.2)\n",
      "Requirement already satisfied: pyyaml>=5.1 in /root/miniconda3/lib/python3.12/site-packages (from huggingface_hub) (6.0.2)\n",
      "Requirement already satisfied: requests in /root/miniconda3/lib/python3.12/site-packages (from huggingface_hub) (2.32.2)\n",
      "Requirement already satisfied: tqdm>=4.42.1 in /root/miniconda3/lib/python3.12/site-packages (from huggingface_hub) (4.66.4)\n",
      "Requirement already satisfied: typing-extensions>=3.7.4.3 in /root/miniconda3/lib/python3.12/site-packages (from huggingface_hub) (4.12.2)\n",
      "Requirement already satisfied: charset-normalizer<4,>=2 in /root/miniconda3/lib/python3.12/site-packages (from requests->huggingface_hub) (2.0.4)\n",
      "Requirement already satisfied: idna<4,>=2.5 in /root/miniconda3/lib/python3.12/site-packages (from requests->huggingface_hub) (3.7)\n",
      "Requirement already satisfied: urllib3<3,>=1.21.1 in /root/miniconda3/lib/python3.12/site-packages (from requests->huggingface_hub) (2.2.2)\n",
      "Requirement already satisfied: certifi>=2017.4.17 in /root/miniconda3/lib/python3.12/site-packages (from requests->huggingface_hub) (2024.12.14)\n",
      "\u001b[33mWARNING: Running pip as the 'root' user can result in broken permissions and conflicting behaviour with the system package manager. It is recommended to use a virtual environment instead: https://pip.pypa.io/warnings/venv\u001b[0m\u001b[33m\n",
      "\u001b[0mNote: you may need to restart the kernel to use updated packages.\n",
      "Requirement already satisfied: pillow in /root/miniconda3/lib/python3.12/site-packages (11.1.0)\n",
      "\u001b[33mWARNING: Running pip as the 'root' user can result in broken permissions and conflicting behaviour with the system package manager. It is recommended to use a virtual environment instead: https://pip.pypa.io/warnings/venv\u001b[0m\u001b[33m\n",
      "\u001b[0mNote: you may need to restart the kernel to use updated packages.\n",
      "Collecting pdf2image\n",
      "  Downloading pdf2image-1.17.0-py3-none-any.whl.metadata (6.2 kB)\n",
      "Requirement already satisfied: pillow in /root/miniconda3/lib/python3.12/site-packages (from pdf2image) (11.1.0)\n",
      "Downloading pdf2image-1.17.0-py3-none-any.whl (11 kB)\n",
      "Installing collected packages: pdf2image\n",
      "Successfully installed pdf2image-1.17.0\n",
      "\u001b[33mWARNING: Running pip as the 'root' user can result in broken permissions and conflicting behaviour with the system package manager. It is recommended to use a virtual environment instead: https://pip.pypa.io/warnings/venv\u001b[0m\u001b[33m\n",
      "\u001b[0mNote: you may need to restart the kernel to use updated packages.\n"
     ]
    }
   ],
   "source": [
    "%pip install -U transformers\n",
    "%pip install accelerate\n",
    "%pip install huggingface_hub\n",
    "%pip install pillow \n",
    "%pip install pdf2image\n"
   ]
  },
  {
   "cell_type": "code",
   "execution_count": 3,
   "metadata": {},
   "outputs": [],
   "source": [
    "from pdf2image import convert_from_path\n",
    "\n",
    "images = convert_from_path(\"/home/Abraham Rodriguez OCR_removed.pdf\")"
   ]
  },
  {
   "cell_type": "code",
   "execution_count": 4,
   "metadata": {},
   "outputs": [
    {
     "name": "stderr",
     "output_type": "stream",
     "text": [
      "/root/miniconda3/lib/python3.12/site-packages/tqdm/auto.py:21: TqdmWarning: IProgress not found. Please update jupyter and ipywidgets. See https://ipywidgets.readthedocs.io/en/stable/user_install.html\n",
      "  from .autonotebook import tqdm as notebook_tqdm\n",
      "Some kwargs in processor config are unused and will not have any effect: image_seq_len. \n"
     ]
    }
   ],
   "source": [
    "import torch\n",
    "from PIL import Image\n",
    "from transformers import AutoProcessor, AutoModelForVision2Seq\n",
    "from transformers.image_utils import load_image\n",
    "from datetime import datetime\n",
    "\n",
    "DEVICE = \"cuda\" if torch.cuda.is_available() else \"cpu\"\n",
    "\n",
    "\n",
    "# Initialize processor and model\n",
    "# processor = AutoProcessor.from_pretrained(\"HuggingFaceTB/SmolVLM-Base\")\n",
    "# model = AutoModelForVision2Seq.from_pretrained(\n",
    "#     \"HuggingFaceTB/SmolVLM-Base\",\n",
    "#     torch_dtype=torch.bfloat16,\n",
    "#     # _attn_implementation=\"flash_attention_2\" if DEVICE == \"cuda\" else \"eager\",\n",
    "# ).to(DEVICE)\n",
    "\n",
    "processor = AutoProcessor.from_pretrained(\"HuggingFaceTB/SmolVLM-Instruct\")\n",
    "model = AutoModelForVision2Seq.from_pretrained(\"HuggingFaceTB/SmolVLM-Instruct\").to(DEVICE)\n",
    "\n",
    "\n",
    "\n"
   ]
  },
  {
   "cell_type": "code",
   "execution_count": 12,
   "metadata": {},
   "outputs": [
    {
     "name": "stdout",
     "output_type": "stream",
     "text": [
      "Page No - 1 start-time - 2025-01-30 03:41:53\n",
      "Page No - 1 end-time - 2025-01-30 03:42:04\n",
      "['User:<image>You are a helpful assistant. Please extract all the text from the image exactly as it appears, including formatting, line breaks, and special characters, and provide it to me in markdown format.\\nAssistant: ### AFFIDAVIT OF MEDICAL RECORDS\\n\\n#### (Pursuant to Texas Rules of Evidence 902(10)(b))\\n\\n### Medical Records Pertaining to:\\n\\n### Abraham Rodriguez\\n\\n### Before me, the undersigned authority, personally appeared\\n\\n### David Rodriguez, who, being by me\\n\\n### affidavit, and personally acquainted with the facts herein stated.\\n\\n### My name is\\n\\n### ________________________________________\\n\\n### I am of sound mind, capable of making this\\n\\n### affidavit, and personally acquainted with the facts herein stated.\\n\\n### I am the custodian of the records of:\\n\\n### AHC Physicians\\n\\n### I am an employee or owner of AHC Physicians and am\\n\\n### familiar with the manner in which its records are created and maintained by virtue of my duties\\n\\n### and responsibilities.\\n\\n### Attached are\\n\\n### pages of records for services provided to Abraham\\n\\n### Rodriguez on or between date(s)\\n\\n### 18/28/2019\\n\\n### These are the original records or exact\\n\\n### duplicates of the original records.\\n\\n### The records were made at or near the time of each act, event, condition, opinion, or diagnosis set forth in the record.\\n\\n### The records were made by, or from information transmitted by, persons with\\n\\n### knowledge of the matters set forth in them.\\n\\n### The records were kept in the course of regularly conducted business activity.\\n\\n### It is the regular practice of AHC Physicians for this\\n\\n### type of record to be made by, or from information transmitted by, persons with\\n\\n### knowledge of the matters set forth in them.\\n\\n### The records were kept in the course of regularly conducted business activity.\\n\\n### It is the regular practice of the business activity\\n\\n### to make the records.\\n\\n### Affiant\\n\\n### Sworn to and subscribed before me on this the\\n\\n### 22 day of\\n\\n### 2027\\n\\n### Notary Public for the State of Texas\\n\\n### Becky Davenport\\n\\n### Notary Public, State of Texas\\n\\n### My Commission Expires: 11/5-21\\n\\n### Notary ID: 11323141']\n",
      "Page No - 2 start-time - 2025-01-30 03:42:04\n",
      "Page No - 2 end-time - 2025-01-30 03:42:44\n",
      "['User:<image>You are a helpful assistant. Please extract all the text from the image exactly as it appears, including formatting, line breaks, and special characters, and provide it to me in markdown format.\\nAssistant: AHC Physicians Inc.\\n4242 E. Southcross Ste16\\nChart #: 2019001044\\nProvider: Ronald S. Stogryn M.D.\\nResponsible: Davis Law Firm,\\nAppt Date: 11/26/1979\\nAppt Time: 11:00\\nPrimary Insurance: Davis Law Firm\\nTax ID # 742732524\\nCPT PROCEDURE FEE\\nLevel I 99201 99211 10060 I&D Abscess\\nLevel II 99202 99212 10120 I&R FB SQ Simple\\nLevel III 99203 99213 10000 Debride Infected Skin\\nLevel IV 99204 99214 10105 Pare/Curette Lesson 1-vein\\nLevel V 99205 99215 11000 Skin Biopsy\\n99058 Off SVCS/ER Basis\\n99050 SVCS Att Hrs\\n99025 New/W * Proc\\n99024 Post OP NC\\n59400 OB visit routine\\n99024 1YR 99381 99391 65220 FEMALE\\n99382 1-4YR 99393 69210 FEMALE\\n99383 5-11YR 99393 94760 FEMALE\\n99384 12-17YR 99393 94664 FEMALE\\n99385 18-39YR 99393 96661 FEMALE\\n99386 40-64YR 99393 96308 FEMALE\\n99387 65+ 99393 88155 FEMALE\\n90700 DT 90702 DT 90701 DPT 90707 MMR 90712 POLIO 90720 DPT/HIB 90737 HIB 90716 Varicella 95115 Allerag Ini-Ade 95117 Allerag Ini-Mult 95118 PPD 90718 DT Adult 90720 Inhib. Sub QIMM 90788 DT Adult 90788 J Meds: 90789 90790 90791 90792 90793 90794 90795 90796 90797 90798 90799 90800 90801 90802 90803 90804 90805 90806 90807 90808 90809 90810 90811 90812 90813 90814 90815 90816 90817 90818 90819 90820 90821 90822 90823 90824 90825 90826 90827 90828 90829 90830 90831 90832 90833 90834 90835 90836 90837 90838 90839 90840 90841 90842 90843 90844 90845 90846 90847 90848 90849 90850 90851 90852 90853 90854 90855 90856 90857 90858 90859 90860 90861 90862 90863 90864 90865 90866 90867 90868 90869 90870 90871 90872 90873 90874 90875 90876 90877 90878 90879 90880 90881 90882 90883 90884 90885 90886 90887 90888 90889 90890 90891 90892 90893 90894 90895 90896 90897 90898 90899 90900 90901 90902 90903 90904 90905 90906 90907 90908 90909 90910 90911 90912 90913 90914 90915 90916 90917 90918 90919 90920 90921 90922 90923 90924 90925 90926 90927 90928 90929 90930 90931 90932 90933 90934 90935 90936 90937 90938 90939 90940 90941 90942 90943 90944 90945 90946 90947 90948 90949 90950 90951 90952 90953 90954 90955 90956 90957 90958 90959 90960 90961 90962 90963 90964 90965 90966 90967 90968 90969 90970 90971 90972 90973 90974 90975 90976 90977 90978 90979 90980 90981 90982 90983 90984 90985 90986 90987 90988 90989 90990 90991 90992 90993 90994 90995 90996 90997 90998 90999 91000 91001 91002 91003 91004 91005 91006 91007 91008 91009 91010 91011 91012 91013 91014 91015']\n",
      "Page No - 3 start-time - 2025-01-30 03:42:44\n",
      "Page No - 3 end-time - 2025-01-30 03:42:50\n",
      "['User:<image>You are a helpful assistant. Please extract all the text from the image exactly as it appears, including formatting, line breaks, and special characters, and provide it to me in markdown format.\\nAssistant: ```\\nPatient: Abraham E. Rodriguez\\n39 yr. old male, was involved in a motor vehicle accident on October 09, 2019 while driving when the vehicle he was in was side swiped. He felt pain on shoulder, lower back and ankle. He went to see a chiropractor who examined him and initiated physical therapy.\\n\\nFamily History: Reveals it is positive for diabetes and chronic heart disease.\\n\\nPhysical Exam:\\n- Cervical Whiplash\\n- Lumbar Strain\\n- Right Shoulder Strain\\n- Right Ankle Pain\\n\\nDiagnosis:\\n- Cervical Whiplash\\n- Lumbar Strain\\n- Right Shoulder Strain\\n- Right Ankle Pain\\n\\nPlan:\\n1. Patient will begin Flexeril 10 mg tabs #30 one before bedtime.\\n2. Patient will begin Tramadol 50 mg tabs #90 one three times daily.\\n3. Patient will continue chiropractic care with Chiro Care.\\n4. Patient will follow up in my office in one month and/or as needed basis.\\n\\nDated but not read by Ronald S. Stogryn MD & Eugene Trotta PA\\n```']\n",
      "Page No - 4 start-time - 2025-01-30 03:42:50\n",
      "Page No - 4 end-time - 2025-01-30 03:42:59\n",
      "[\"User:<image>You are a helpful assistant. Please extract all the text from the image exactly as it appears, including formatting, line breaks, and special characters, and provide it to me in markdown format.\\nAssistant: Patient: Abraham B. Rodriquez\\nAge: 39\\nDate: 07/09/2017\\nDrug Allergies: 100%\\nMedications: Cholesterol, Antacid\\nB/P: 137/86 PULSE: 60 WT: 728 HT: 59 LMP: 01/19/19\\nEXAMINATION:\\nHEENT: N/A Headaches Migraines Blurred Vision Hearing Loss Trauma to Face\\nOther:\\nNeck: N/A Pain Strain Stiffness Right/Left Trapezius\\nOther: 5/10\\nThorax: N/A Pain Anterior Thorax Ribcage R/L Positive Vasalva\\nOther:\\nAbdomen: N/A Pain Lower / Upper Peristalsis is present\\nOther:\\nTorso: N/A Pain Strain Thoracic Spine Lumbar Spine Stiffness\\nOther: 9/10\\nExtremities: N/A R/L Shoulder R/L Arm R/L Elbow R/L Forearm R/L Hand\\nOther:\\nR/L Wrist R/L Knee R/L Leg R/L Ankle R/L Foot\\nNeurological: N/A No Neurological Deficits\\nOther:\\nMrs. George Up AND Ext Right ACHS: Surge Muscles Ri 8.00\\nPFT Tomas A V- VENUS: Back Neck V Body\\nTrommamal S- Sinus + Tini + Tini from Music\\nFever 100 WT: 728\\n1'r Bater\\n1'r Alon\"]\n",
      "Page No - 5 start-time - 2025-01-30 03:42:59\n",
      "Page No - 5 end-time - 2025-01-30 03:43:03\n",
      "['User:<image>You are a helpful assistant. Please extract all the text from the image exactly as it appears, including formatting, line breaks, and special characters, and provide it to me in markdown format.\\nAssistant: AHC PHYSICIANS INC.\\n4242 E. SOUTH-CROSS STE. 16\\nSAN ANTONIO, TX 78222\\n(210) 333-8311\\n\\nCERTIFICATE TO RETURN TO WORK OR SCHOOL\\n\\nMr./ Mrs./ Ms. Fibratin Rodriguez\\nwas under my care from 0-2819 to 0-2819\\nand will be able to return to work/school on 10-29-19\\n\\nRemarks\\n\\nDr. Ronald S. Stogryn M.D.\\n\\nPage 005 of 230']\n",
      "Page No - 6 start-time - 2025-01-30 03:43:03\n",
      "Page No - 6 end-time - 2025-01-30 03:43:10\n",
      "['User:<image>You are a helpful assistant. Please extract all the text from the image exactly as it appears, including formatting, line breaks, and special characters, and provide it to me in markdown format.\\nAssistant: AHC Physicians Inc.\\nPatient Name: Abraham Pardiguer\\nDate: 10/28/19\\nDrug Allergies: N/A\\nMedications:\\n1. Date of Accident: 10-9-19\\n2. Was patient the driver? Yes/No\\n- Passenger? Yes/No (front or back)\\n3. Did patient have a seat belt on? Yes/No\\n4. How was the accident? (rear ended, head on, t-bone ,etc.) Side Swip\\n5. Did patient hit anything inside the vehicle? (dashboard, window, etc.)\\n6. Did patient go to the Hospital or any clinic? Yes/No If yes, where?\\n7. Patient attending physical therapy? Yes/No If yes, where: Chicago\\n8. Where did patient feel pain the day of the accident? (neck, back, shoulders, etc.) Lower Back, shoulder, dickle\\nPatient Past Medical History: (Circle all that apply)\\nDiabetes Hypertension Chronic Heart disease None\\nOther:\\nPatient Family Medical History:\\nDiabetes Hypertension Chronic Heart disease None\\nPatient Social History: Do you work (yes / no), drink or smoke? Today, where does the patient feel pain?\\nBack neck shoulders chest abdomen knee (left/right) wrist(left/right)\\nPage 006 of 230']\n"
     ]
    }
   ],
   "source": [
    "from datetime import datetime\n",
    "messages = [\n",
    "    {\n",
    "        \"role\": \"user\",\n",
    "        \"content\": [\n",
    "            {\"type\": \"image\"},\n",
    "            {\"type\": \"text\", \"text\": \"\"\"You are a helpful assistant. Please extract all the text from the image exactly as it appears, including formatting, line breaks, and special characters, and provide it to me in markdown format.\"\"\"}\n",
    "        ]\n",
    "    },\n",
    "]\n",
    "# Prepare inputs\n",
    "\n",
    "\n",
    "for idx,image in enumerate(images):\n",
    "    print(f\"Page No - {idx+1} start-time - {datetime.now().strftime('%Y-%m-%d %H:%M:%S')}\")\n",
    "    prompt = processor.apply_chat_template(messages, add_generation_prompt=True)\n",
    "    inputs = processor(text=prompt, images=[image], return_tensors=\"pt\")\n",
    "    inputs = inputs.to(DEVICE)\n",
    "    generated_ids = model.generate(**inputs, max_new_tokens=2000)\n",
    "    generated_texts = processor.batch_decode(\n",
    "        generated_ids,\n",
    "        skip_special_tokens=True,\n",
    "    )\n",
    "    print(f\"Page No - {idx+1} end-time - {datetime.now().strftime('%Y-%m-%d %H:%M:%S')}\")\n",
    "    with open(f\"/home/page_{idx+1}.md\", \"w\", encoding=\"utf-8\") as md_file:\n",
    "        md_file.write(generated_texts[0])\n",
    "    print(generated_texts)\n",
    "    \n"
   ]
  }
 ],
 "metadata": {
  "kernelspec": {
   "display_name": "py3.10",
   "language": "python",
   "name": "python3"
  },
  "language_info": {
   "codemirror_mode": {
    "name": "ipython",
    "version": 3
   },
   "file_extension": ".py",
   "mimetype": "text/x-python",
   "name": "python",
   "nbconvert_exporter": "python",
   "pygments_lexer": "ipython3",
   "version": "3.12.2"
  }
 },
 "nbformat": 4,
 "nbformat_minor": 2
}
