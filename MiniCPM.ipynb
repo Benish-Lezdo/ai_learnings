{
 "cells": [
  {
   "cell_type": "markdown",
   "metadata": {},
   "source": [
    "MiniCPM V2.6\n",
    "\n",
    "* Models used\n",
    "  * Qwen2 7B\n",
    "  * SigLip-400m\n",
    "* lesser hallucination\n",
    "* 17 GB GPU\n",
    "* Strong OCR capabilities\n",
    "* supports multiple images\n",
    "\n",
    "* Assessed with handwritten images\n",
    "  * Has beeter performance on Handwriiten texts\n",
    "  * faster retrieval\n",
    "  * No out of memmory error occured like loading the qwen2 directly\n",
    "\n",
    "\n"
   ]
  },
  {
   "cell_type": "code",
   "execution_count": null,
   "metadata": {},
   "outputs": [],
   "source": [
    "!pip install transformers==4.40.0 sentencepiece==0.1.99 accelerate bitsandbytes flash-attn decord Pillow==10.1.0 huggingface-hub"
   ]
  },
  {
   "cell_type": "code",
   "execution_count": null,
   "metadata": {},
   "outputs": [],
   "source": [
    "from huggingface_hub import notebook_login\n",
    "notebook_login()"
   ]
  },
  {
   "cell_type": "code",
   "execution_count": null,
   "metadata": {},
   "outputs": [],
   "source": [
    "import torch\n",
    "from PIL import Image\n",
    "from transformers import AutoModel, AutoTokenizer, AutoProcessor\n",
    "\n",
    "model = AutoModel.from_pretrained('openbmb/MiniCPM-V-2_6', trust_remote_code=True,\n",
    "                                attn_implementation='sdpa', \n",
    "                                torch_dtype=torch.bfloat16, \n",
    "                                ) # sdpa or flash_attention_2, no eager\n",
    "model = model.eval().cuda()\n",
    "tokenizer = AutoTokenizer.from_pretrained('openbmb/MiniCPM-V-2_6', \n",
    "                                            trust_remote_code=True,\n",
    "                                            )"
   ]
  },
  {
   "cell_type": "code",
   "execution_count": 6,
   "metadata": {},
   "outputs": [
    {
     "name": "stdout",
     "output_type": "stream",
     "text": [
      "109/61\n"
     ]
    }
   ],
   "source": [
    "image1 = Image.open('/home/redacted_pdf_pg_no_28.png').convert('RGB')\n",
    "image2 = Image.open('/home/redacted_pdf_pg_no_33.png').convert('RGB')\n",
    "image3 = Image.open('/home/redacted_pdf_pg_no_69.png').convert('RGB')\n",
    "\n",
    "query = input(\"Enter the question: \")\n",
    "question = f\"\"\"Answer the question based on the Image I provided\n",
    "question: {query}\n",
    "\"\"\"\n",
    "\n",
    "\n",
    "\n",
    "\n",
    "\n",
    "msgs = [{'role': 'user', 'content': [image3, query]}]\n",
    "\n",
    "answer = model.chat(\n",
    "    image=None,\n",
    "    msgs=msgs,\n",
    "    tokenizer=tokenizer\n",
    ")\n",
    "print(answer)"
   ]
  }
 ],
 "metadata": {
  "kernelspec": {
   "display_name": "py3.10",
   "language": "python",
   "name": "python3"
  },
  "language_info": {
   "codemirror_mode": {
    "name": "ipython",
    "version": 3
   },
   "file_extension": ".py",
   "mimetype": "text/x-python",
   "name": "python",
   "nbconvert_exporter": "python",
   "pygments_lexer": "ipython3",
   "version": "3.10.14"
  }
 },
 "nbformat": 4,
 "nbformat_minor": 2
}
