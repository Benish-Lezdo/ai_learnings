{
 "cells": [
  {
   "cell_type": "code",
   "execution_count": null,
   "metadata": {},
   "outputs": [],
   "source": [
    "%pip install --upgrade git+https://github.com/huggingface/transformers.git \n",
    "!sudo apt-get update\n",
    "!sudo apt-get install -y poppler-utils"
   ]
  },
  {
   "cell_type": "code",
   "execution_count": null,
   "metadata": {},
   "outputs": [],
   "source": [
    "%pip install byaldi  accelerate  pdf2image"
   ]
  },
  {
   "cell_type": "code",
   "execution_count": 3,
   "metadata": {},
   "outputs": [
    {
     "name": "stdout",
     "output_type": "stream",
     "text": [
      "Verbosity is set to 1 (active). Pass verbose=0 to make quieter.\n"
     ]
    },
    {
     "name": "stderr",
     "output_type": "stream",
     "text": [
      "`config.hidden_act` is ignored, you should use `config.hidden_activation` instead.\n",
      "Gemma's activation function will be set to `gelu_pytorch_tanh`. Please, use\n",
      "`config.hidden_activation` if you want to override this behaviour.\n",
      "See https://github.com/huggingface/transformers/pull/29402 for more details.\n"
     ]
    },
    {
     "data": {
      "application/vnd.jupyter.widget-view+json": {
       "model_id": "96d889b3ad7e4723a830aab347ebb4e1",
       "version_major": 2,
       "version_minor": 0
      },
      "text/plain": [
       "Loading checkpoint shards:   0%|          | 0/2 [00:00<?, ?it/s]"
      ]
     },
     "metadata": {},
     "output_type": "display_data"
    }
   ],
   "source": [
    "from byaldi import RAGMultiModalModel\n",
    "from transformers import Qwen2VLForConditionalGeneration, AutoTokenizer, AutoProcessor\n",
    "import torch\n",
    "import transformers\n",
    "from transformers import AutoModelForCausalLM, AutoTokenizer\n",
    "\n",
    "\n",
    "RAG = RAGMultiModalModel.from_pretrained(\"vidore/colpali\")"
   ]
  },
  {
   "cell_type": "code",
   "execution_count": 4,
   "metadata": {},
   "outputs": [
    {
     "name": "stdout",
     "output_type": "stream",
     "text": [
      "Added page 1 of document 0 to index.\n",
      "Added page 2 of document 0 to index.\n",
      "Added page 3 of document 0 to index.\n",
      "Added page 4 of document 0 to index.\n",
      "Added page 5 of document 0 to index.\n",
      "Added page 6 of document 0 to index.\n",
      "Added page 7 of document 0 to index.\n",
      "Added page 8 of document 0 to index.\n",
      "Added page 9 of document 0 to index.\n",
      "Added page 10 of document 0 to index.\n",
      "Added page 11 of document 0 to index.\n",
      "Added page 12 of document 0 to index.\n",
      "Added page 13 of document 0 to index.\n",
      "Added page 14 of document 0 to index.\n",
      "Added page 15 of document 0 to index.\n",
      "Added page 16 of document 0 to index.\n",
      "Added page 17 of document 0 to index.\n",
      "Added page 18 of document 0 to index.\n",
      "Added page 19 of document 0 to index.\n",
      "Added page 20 of document 0 to index.\n",
      "Added page 21 of document 0 to index.\n",
      "Added page 22 of document 0 to index.\n",
      "Added page 23 of document 0 to index.\n",
      "Added page 24 of document 0 to index.\n",
      "Added page 25 of document 0 to index.\n",
      "Added page 26 of document 0 to index.\n",
      "Added page 27 of document 0 to index.\n",
      "Added page 28 of document 0 to index.\n",
      "Added page 29 of document 0 to index.\n",
      "Added page 30 of document 0 to index.\n",
      "Added page 31 of document 0 to index.\n",
      "Added page 32 of document 0 to index.\n",
      "Added page 33 of document 0 to index.\n",
      "Added page 34 of document 0 to index.\n",
      "Added page 35 of document 0 to index.\n",
      "Added page 36 of document 0 to index.\n",
      "Added page 37 of document 0 to index.\n",
      "Added page 38 of document 0 to index.\n",
      "Added page 39 of document 0 to index.\n",
      "Added page 40 of document 0 to index.\n",
      "Added page 41 of document 0 to index.\n",
      "Added page 42 of document 0 to index.\n",
      "Added page 43 of document 0 to index.\n",
      "Added page 44 of document 0 to index.\n",
      "Added page 45 of document 0 to index.\n",
      "Added page 46 of document 0 to index.\n",
      "Added page 47 of document 0 to index.\n",
      "Added page 48 of document 0 to index.\n",
      "Added page 49 of document 0 to index.\n",
      "Added page 50 of document 0 to index.\n",
      "Added page 51 of document 0 to index.\n",
      "Added page 52 of document 0 to index.\n",
      "Added page 53 of document 0 to index.\n",
      "Added page 54 of document 0 to index.\n",
      "Added page 55 of document 0 to index.\n",
      "Added page 56 of document 0 to index.\n",
      "Added page 57 of document 0 to index.\n",
      "Added page 58 of document 0 to index.\n",
      "Added page 59 of document 0 to index.\n",
      "Added page 60 of document 0 to index.\n",
      "Added page 61 of document 0 to index.\n",
      "Added page 62 of document 0 to index.\n",
      "Added page 63 of document 0 to index.\n",
      "Added page 64 of document 0 to index.\n",
      "Added page 65 of document 0 to index.\n",
      "Added page 66 of document 0 to index.\n",
      "Added page 67 of document 0 to index.\n",
      "Added page 68 of document 0 to index.\n",
      "Added page 69 of document 0 to index.\n",
      "Added page 70 of document 0 to index.\n",
      "Added page 71 of document 0 to index.\n",
      "Added page 72 of document 0 to index.\n",
      "Added page 73 of document 0 to index.\n",
      "Added page 74 of document 0 to index.\n",
      "Added page 75 of document 0 to index.\n",
      "Added page 76 of document 0 to index.\n",
      "Added page 77 of document 0 to index.\n",
      "Added page 78 of document 0 to index.\n",
      "Added page 79 of document 0 to index.\n",
      "Index exported to .byaldi/index\n",
      "Index exported to .byaldi/index\n"
     ]
    },
    {
     "data": {
      "text/plain": [
       "{0: '/home/sample.pdf'}"
      ]
     },
     "execution_count": 4,
     "metadata": {},
     "output_type": "execute_result"
    }
   ],
   "source": [
    "RAG.index(\n",
    "    input_path=\"/home/sample.pdf\",\n",
    "    index_name=\"index\",\n",
    "    store_collection_with_index=False,\n",
    "    overwrite=True\n",
    ")"
   ]
  },
  {
   "cell_type": "code",
   "execution_count": 5,
   "metadata": {},
   "outputs": [],
   "source": [
    "from pdf2image import convert_from_path\n",
    "images = convert_from_path(\"/home/sample.pdf\")"
   ]
  },
  {
   "cell_type": "code",
   "execution_count": null,
   "metadata": {},
   "outputs": [],
   "source": [
    "\n",
    "# # set device\n",
    "# device = 'cuda'  # or cpu\n",
    "# torch.set_default_device(device)\n",
    "\n",
    "device = \"cuda\"\n",
    "# create model\n",
    "model = AutoModelForCausalLM.from_pretrained(\n",
    "    'BAAI/Bunny-v1_0-4B',\n",
    "    torch_dtype=\"auto\",\n",
    "    device_map='auto',\n",
    "    trust_remote_code=True)\n",
    "tokenizer = AutoTokenizer.from_pretrained(\n",
    "    'BAAI/Bunny-v1_0-4B',\n",
    "    trust_remote_code=True)"
   ]
  },
  {
   "cell_type": "code",
   "execution_count": 17,
   "metadata": {},
   "outputs": [
    {
     "name": "stdout",
     "output_type": "stream",
     "text": [
      "[{'doc_id': 0, 'page_num': 68, 'score': 14.75, 'metadata': {}, 'base64': None}, {'doc_id': 0, 'page_num': 60, 'score': 14.125, 'metadata': {}, 'base64': None}]\n"
     ]
    },
    {
     "data": {
      "text/plain": [
       "[67, 59]"
      ]
     },
     "execution_count": 17,
     "metadata": {},
     "output_type": "execute_result"
    }
   ],
   "source": [
    "search_query = input(\"Enter your question \")\n",
    "results = RAG.search(search_query, k=2)\n",
    "print(results)\n",
    "image_indexes = [pages['page_num']-1 for pages in results]\n",
    "image_indexes"
   ]
  },
  {
   "cell_type": "code",
   "execution_count": 18,
   "metadata": {},
   "outputs": [],
   "source": [
    "def generate_image_arr(image_indexes):\n",
    "    image_arr = []\n",
    "    for i in image_indexes:\n",
    "        image_arr.append(images[i])\n",
    "    return image_arr\n",
    "        \n"
   ]
  },
  {
   "cell_type": "code",
   "execution_count": 23,
   "metadata": {},
   "outputs": [
    {
     "name": "stdout",
     "output_type": "stream",
     "text": [
      "[<PIL.PpmImagePlugin.PpmImageFile image mode=RGB size=2339x1653 at 0x7F4B416E78B0>, <PIL.PpmImagePlugin.PpmImageFile image mode=RGB size=1701x2407 at 0x7F4B416E7940>]\n",
      "The patient does not have communication issues.\n"
     ]
    }
   ],
   "source": [
    "\n",
    "# text = f\"Answer the given question from the image if you are unable find the answer from the image then say unable to find the answer. USER: <image>\\n{search_query} ASSISTANT:\"\n",
    "# text_chunks = [tokenizer(chunk).input_ids for chunk in text.split('<image>')]\n",
    "# input_ids = torch.tensor(text_chunks[0] + [-200] + text_chunks[1][1:], dtype=torch.long).unsqueeze(0).to(device)\n",
    "\n",
    "\n",
    "image_arr = generate_image_arr(image_indexes)\n",
    "print(image_arr)\n",
    "# image_tensor = model.process_images([image], model.config).to(dtype=model.dtype, device=device)\n",
    "\n",
    "text = (\n",
    "    \"You are a helpful assistant who answers questions based on the images provided.\\n\"\n",
    "    \"Please provide a detailed answer and explanation based on the images. \"\n",
    "    \"If you're unable to find the answer from the images, please say 'Unable to find the answer.'\\n\"\n",
    "    \"USER:\\n\"\n",
    ")\n",
    "for _ in image_arr:\n",
    "    text += \"<image>\\n\"\n",
    "text += f\"{search_query}\\nASSISTANT:\"\n",
    "\n",
    "# Split and tokenize the text\n",
    "text_chunks = text.split('<image>')\n",
    "tokenized_chunks = [tokenizer(chunk).input_ids for chunk in text_chunks]\n",
    "\n",
    "# Build input_ids with placeholders for images\n",
    "input_ids = tokenized_chunks[0]\n",
    "for idx in range(1, len(tokenized_chunks)):\n",
    "    input_ids += [-200]  # Image placeholder\n",
    "    input_ids += tokenized_chunks[idx]\n",
    "input_ids = torch.tensor(input_ids, dtype=torch.long).unsqueeze(0).to(device)\n",
    "image_tensor = model.process_images(image_arr, model.config).to(dtype=model.dtype, device=device)\n",
    "\n",
    "\n",
    "# generate\n",
    "output_ids = model.generate(\n",
    "    input_ids,\n",
    "    images=image_tensor,\n",
    "    max_new_tokens=1000,\n",
    "    use_cache=True,\n",
    "    repetition_penalty=1.0 \n",
    ")[0]\n",
    "\n",
    "print(tokenizer.decode(output_ids[input_ids.shape[1]:], skip_special_tokens=True).strip())"
   ]
  }
 ],
 "metadata": {
  "kernelspec": {
   "display_name": "py3.10",
   "language": "python",
   "name": "python3"
  },
  "language_info": {
   "codemirror_mode": {
    "name": "ipython",
    "version": 3
   },
   "file_extension": ".py",
   "mimetype": "text/x-python",
   "name": "python",
   "nbconvert_exporter": "python",
   "pygments_lexer": "ipython3",
   "version": "3.10.14"
  }
 },
 "nbformat": 4,
 "nbformat_minor": 2
}
